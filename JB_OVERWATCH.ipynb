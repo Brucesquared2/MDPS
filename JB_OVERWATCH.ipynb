# JB_OVERWATCH.ipynb - CLIME Cockpit Quantitative Trading System

# Cell 1: Import Dependencies
import pandas as pd
import numpy as np
import yfinance as yf
import streamlit as st
import plotly.graph_objects as go
import plotly.express as px
from datetime import datetime, timedelta
import ta
import ccxt
import requests
from typing import Dict, List, Optional, Tuple
import warnings
warnings.filterwarnings('ignore')

# Cell 2: Configuration and Setup
class CLIMEConfig:
    """Configuration settings for CLIME Cockpit system"""
    
    # Data sources
    SYMBOLS = ['SPY', 'QQQ', 'IWM', 'VIX', 'TLT', 'GLD', 'BTC-USD']
    
    # Time periods
    LOOKBACK_DAYS = 252
    SHORT_PERIOD = 14
    LONG_PERIOD = 50
    
    # Regime thresholds
    VOLATILITY_THRESHOLD = 0.20
    MOMENTUM_THRESHOLD = 0.05
    LIQUIDITY_THRESHOLD = 0.30
    
    # Risk management
    MAX_POSITION_SIZE = 0.25
    STOP_LOSS = 0.05
    TAKE_PROFIT = 0.15
    
    # Trading modes
    STRATEGY_MODES = [
        "The Watchers",
        "Mean Reversion", 
        "Trend Momentum",
        "Breakout/Volatility",
        "Volume/Order Flow",
        "Custom Logic"
    ]

config = CLIMEConfig()
print("✅ CLIME Cockpit Configuration Loaded")

# Cell 3: Data Acquisition Module
class MarketDataManager:
    """Handles market data fetching and preprocessing"""
    
    def __init__(self, symbols: List[str]):
        self.symbols = symbols
        self.data_cache = {}
        
    def fetch_market_data(self, period: str = "1y") -> Dict[str, pd.DataFrame]:
        """Fetch market data for all symbols"""
        market_data = {}
        
        for symbol in self.symbols:
            try:
                ticker = yf.Ticker(symbol)
                df = ticker.history(period=period)
                df['Returns'] = df['Close'].pct_change()
                df['Volatility'] = df['Returns'].rolling(20).std() * np.sqrt(252)
                market_data[symbol] = df
                print(f"✅ Fetched data for {symbol}: {len(df)} rows")
            except Exception as e:
                print(f"❌ Error fetching {symbol}: {str(e)}")
                
        return market_data
    
    def calculate_technical_indicators(self, df: pd.DataFrame) -> pd.DataFrame:
        """Calculate technical analysis indicators"""
        df = df.copy()
        
        # Moving averages
        df['SMA_20'] = ta.trend.sma_indicator(df['Close'], window=20)
        df['EMA_20'] = ta.trend.ema_indicator(df['Close'], window=20)
        
        # Momentum indicators
        df['RSI'] = ta.momentum.rsi(df['Close'])
        df['MACD'] = ta.trend.macd_diff(df['Close'])
        
        # Volatility indicators
        bb = ta.volatility.BollingerBands(df['Close'])
        df['BB_Upper'] = bb.bollinger_hband()
        df['BB_Lower'] = bb.bollinger_lband()
        
        # Volume indicators
        df['Volume_SMA'] = df['Volume'].rolling(20).mean()
        df['Volume_Ratio'] = df['Volume'] / df['Volume_SMA']
        
        return df

# Initialize data manager
data_manager = MarketDataManager(config.SYMBOLS)
print("📊 Market Data Manager initialized")

# Cell 4: Signal Generation Engine
class SignalEngine:
    """Core signal generation for CLIME system"""
    
    def __init__(self):
        self.signals = {}
        self.regime_scores = {}
        
    def calculate_momentum_signal(self, df: pd.DataFrame) -> float:
        """Calculate momentum-based signal strength"""
        if len(df) < 20:
            return 0.0
            
        # Price momentum
        price_mom = (df['Close'].iloc[-1] / df['Close'].iloc[-20] - 1)
        
        # Volume momentum
        vol_mom = df['Volume_Ratio'].iloc[-5:].mean()
        
        # Combined momentum score
        momentum_score = (price_mom * 0.7 + (vol_mom - 1) * 0.3)
        return np.clip(momentum_score, -1, 1)
    
    def calculate_volatility_regime(self, df: pd.DataFrame) -> Dict[str, float]:
        """Determine volatility regime classification"""
        current_vol = df['Volatility'].iloc[-1]
        vol_percentile = df['Volatility'].rank(pct=True).iloc[-1]
        
        if vol_percentile > 0.8:
            regime = "HIGH_VOLATILITY"
            score = vol_percentile
        elif vol_percentile > 0.6:
            regime = "ELEVATED_VOLATILITY"  
            score = vol_percentile
        elif vol_percentile < 0.2:
            regime = "LOW_VOLATILITY"
            score = 1 - vol_percentile
        else:
            regime = "NORMAL_VOLATILITY"
            score = 0.5
            
        return {"regime": regime, "score": score, "volatility": current_vol}
    
    def calculate_mean_reversion_signal(self, df: pd.DataFrame) -> float:
        """Calculate mean reversion signal strength"""
        if len(df) < 20:
            return 0.0
            
        # Distance from moving average
        price_deviation = (df['Close'].iloc[-1] - df['SMA_20'].iloc[-1]) / df['SMA_20'].iloc[-1]
        
        # RSI extremes
        rsi = df['RSI'].iloc[-1]
        rsi_signal = 0
        if rsi > 70:
            rsi_signal = -(rsi - 70) / 30  # Negative signal for overbought
        elif rsi < 30:
            rsi_signal = (30 - rsi) / 30   # Positive signal for oversold
            
        # Combined mean reversion signal
        mr_signal = -np.sign(price_deviation) * min(abs(price_deviation) * 2, 0.5) + rsi_signal * 0.3
        return np.clip(mr_signal, -1, 1)
    
    def generate_master_signal(self, market_data: Dict[str, pd.DataFrame], 
                             strategy_mode: str = "The Watchers") -> Dict:
        """Generate master trading signal based on strategy mode"""
        
        spy_data = market_data.get('SPY')
        vix_data = market_data.get('VIX') 
        
        if spy_data is None:
            return {"error": "No SPY data available"}
            
        # Calculate individual signals
        momentum_sig = self.calculate_momentum_signal(spy_data)
        vol_regime = self.calculate_volatility_regime(spy_data)
        mr_signal = self.calculate_mean_reversion_signal(spy_data)
        
        # Strategy-specific signal weighting
        if strategy_mode == "The Watchers":
            # Conservative, alert-based approach
            final_signal = momentum_sig * 0.3 + mr_signal * 0.2
            confidence = 0.6 if abs(final_signal) > 0.3 else 0.3
            
        elif strategy_mode == "Trend Momentum":
            # Momentum-focused approach
            final_signal = momentum_sig * 0.8 + mr_signal * 0.2
            confidence = 0.8 if momentum_sig > 0.2 else 0.4
            
        elif strategy_mode == "Mean Reversion":
            # Contrarian approach
            final_signal = mr_signal * 0.7 + momentum_sig * 0.3
            confidence = 0.7 if abs(mr_signal) > 0.3 else 0.4
            
        else:
            # Balanced approach
            final_signal = (momentum_sig + mr_signal) / 2
            confidence = 0.5
            
        return {
            "final_signal": final_signal,
            "confidence": confidence,
            "momentum_signal": momentum_sig,
            "mean_reversion_signal": mr_signal,
            "volatility_regime": vol_regime,
            "strategy_mode": strategy_mode,
            "timestamp": datetime.now()
        }

# Initialize signal engine
signal_engine = SignalEngine()
print("🧠 Signal Generation Engine initialized")

# Cell 5: Risk Management System
class RiskManager:
    """Risk management and position sizing"""
    
    def __init__(self, max_position_size: float = 0.25):
        self.max_position_size = max_position_size
        self.active_positions = {}
        self.portfolio_value = 100000  # Starting portfolio value
        
    def calculate_position_size(self, signal_strength: float, confidence: float, 
                               volatility: float) -> float:
        """Calculate appropriate position size based on signal and risk"""
        
        # Base position size from signal strength and confidence
        base_size = abs(signal_strength) * confidence
        
        # Adjust for volatility (reduce size in high vol environments)
        vol_adjustment = max(0.5, 1 - volatility)
        
        # Final position size
        position_size = base_size * vol_adjustment * self.max_position_size
        
        return min(position_size, self.max_position_size)
    
    def check_risk_limits(self, current_drawdown: float, 
                         daily_pnl: float) -> Dict[str, bool]:
        """Check if risk limits are breached"""
        
        risk_checks = {
            "max_drawdown": current_drawdown < -0.10,  # 10% max drawdown
            "daily_loss_limit": daily_pnl < -0.03,     # 3% daily loss limit
            "position_concentration": True,              # TODO: Implement concentration checks
        }
        
        return risk_checks
    
    def generate_risk_report(self) -> Dict:
        """Generate comprehensive risk report"""
        
        return {
            "portfolio_value": self.portfolio_value,
            "max_position_size": self.max_position_size,
            "active_positions": len(self.active_positions),
            "risk_utilization": sum(self.active_positions.values()) if self.active_positions else 0,
            "available_capital": self.portfolio_value * (1 - self.max_position_size)
        }

# Initialize risk manager
risk_manager = RiskManager()
print("🛡️ Risk Management System initialized")

# Cell 6: Dashboard Visualization
def create_dashboard(market_data: Dict[str, pd.DataFrame], 
                    signals: Dict, 
                    strategy_mode: str = "The Watchers"):
    """Create comprehensive trading dashboard"""
    
    st.set_page_config(page_title="JB OVERWATCH - CLIME Cockpit", layout="wide")
    
    # Header
    st.title("🛰️ JB OVERWATCH - CLIME Cockpit")
    st.subheader(f"Strategy Mode: {strategy_mode}")
    
    # Create columns for layout
    col1, col2, col3 = st.columns([2, 1, 1])
    
    with col1:
        # Main price chart
        if 'SPY' in market_data:
            spy_data = market_data['SPY'].tail(60)
            
            fig = go.Figure()
            
            # Candlestick chart
            fig.add_trace(go.Candlestick(
                x=spy_data.index,
                open=spy_data['Open'],
                high=spy_data['High'],
                low=spy_data['Low'],
                close=spy_data['Close'],
                name="SPY"
            ))
            
            # Moving averages
            fig.add_trace(go.Scatter(
                x=spy_data.index,
                y=spy_data['SMA_20'],
                mode='lines',
                name='SMA 20',
                line=dict(color='orange')
            ))
            
            fig.update_layout(
                title="SPY Price Action with Technical Indicators",
                xaxis_title="Date",
                yaxis_title="Price",
                height=400
            )
            
            st.plotly_chart(fig, use_container_width=True)
    
    with col2:
        # Signal strength gauge
        if signals and 'final_signal' in signals:
            fig_gauge = go.Figure(go.Indicator(
                mode = "gauge+number",
                value = signals['final_signal'],
                domain = {'x': [0, 1], 'y': [0, 1]},
                title = {'text': "Signal Strength"},
                gauge = {
                    'axis': {'range': [None, 1]},
                    'bar': {'color': "darkblue"},
                    'steps': [
                        {'range': [0, 0.3], 'color': "lightgray"},
                        {'range': [0.3, 0.7], 'color': "yellow"},
                        {'range': [0.7, 1], 'color': "green"}
                    ],
                    'threshold': {
                        'line': {'color': "red", 'width': 4},
                        'thickness': 0.75,
                        'value': 0.8
                    }
                }
            ))
            
            fig_gauge.update_layout(height=300)
            st.plotly_chart(fig_gauge, use_container_width=True)
    
    with col3:
        # Key metrics
        st.metric("Strategy Mode", strategy_mode)
        
        if signals:
            st.metric("Signal Strength", f"{signals.get('final_signal', 0):.3f}")
            st.metric("Confidence", f"{signals.get('confidence', 0):.3f}")
            
            vol_regime = signals.get('volatility_regime', {})
            if vol_regime:
                st.metric("Volatility Regime", vol_regime.get('regime', 'Unknown'))
                st.metric("Current Vol", f"{vol_regime.get('volatility', 0):.3f}")
    
    # Signal breakdown
    st.subheader("📊 Signal Analysis Breakdown")
    
    if signals:
        col1, col2, col3 = st.columns(3)
        
        with col1:
            st.metric("Momentum Signal", f"{signals.get('momentum_signal', 0):.3f}")
            
        with col2:
            st.metric("Mean Reversion Signal", f"{signals.get('mean_reversion_signal', 0):.3f}")
            
        with col3:
            vol_score = signals.get('volatility_regime', {}).get('score', 0)
            st.metric("Volatility Score", f"{vol_score:.3f}")
    
    # Risk management panel
    st.subheader("🛡️ Risk Management")
    
    risk_report = risk_manager.generate_risk_report()
    
    col1, col2, col3, col4 = st.columns(4)
    with col1:
        st.metric("Portfolio Value", f"${risk_report['portfolio_value']:,.0f}")
    with col2:
        st.metric("Max Position Size", f"{risk_report['max_position_size']:.1%}")
    with col3:
        st.metric("Active Positions", risk_report['active_positions'])
    with col4:
        st.metric("Available Capital", f"${risk_report['available_capital']:,.0f}")

print("📱 Dashboard visualization functions ready")

# Cell 7: Main Execution Engine
def run_clime_cockpit():
    """Main execution function for CLIME Cockpit"""
    
    st.sidebar.title("🛰️ CLIME Controls")
    
    # Strategy selection
    strategy_mode = st.sidebar.selectbox(
        "Strategy Mode",
        config.STRATEGY_MODES,
        index=0
    )
    
    # Data refresh button
    if st.sidebar.button("🔄 Refresh Market Data"):
        with st.spinner("Fetching market data..."):
            market_data = data_manager.fetch_market_data()
            
            # Calculate technical indicators for each asset
            for symbol in market_data:
                market_data[symbol] = data_manager.calculate_technical_indicators(market_data[symbol])
            
            st.sidebar.success("✅ Data refreshed successfully!")
    else:
        # Use cached data or fetch new
        try:
            market_data = data_manager.fetch_market_data()
            for symbol in market_data:
                market_data[symbol] = data_manager.calculate_technical_indicators(market_data[symbol])
        except:
            st.error("❌ Error fetching market data")
            return
    
    # Generate signals
    with st.spinner("Generating trading signals..."):
        signals = signal_engine.generate_master_signal(market_data, strategy_mode)
    
    # Create dashboard
    create_dashboard(market_data, signals, strategy_mode)
    
    # Trading log section
    st.subheader("📝 Trading Activity Log")
    
    # Sample trading log (in real implementation, this would be from database)
    log_data = pd.DataFrame({
        'Timestamp': [datetime.now() - timedelta(hours=i) for i in range(5, 0, -1)],
        'Symbol': ['SPY', 'QQQ', 'SPY', 'TLT', 'SPY'],
        'Action': ['BUY', 'SELL', 'BUY', 'BUY', 'SELL'],
        'Quantity': [100, 50, 75, 200, 100],
        'Price': [455.32, 378.45, 454.87, 102.34, 456.78],
        'PnL': [234.56, -123.45, 345.67, 156.78, 278.90]
    })
    
    st.dataframe(log_data, use_container_width=True)

print("🚀 Main execution engine ready")

# Cell 8: Run the Application
if __name__ == "__main__":
    print("\n" + "="*50)
    print("🛰️  STARTING JB OVERWATCH - CLIME COCKPIT")
    print("="*50)
    
    # Run the dashboard
    try:
        run_clime_cockpit()
    except Exception as e:
        st.error(f"❌ Error running CLIME Cockpit: {str(e)}")
        print(f"Error: {str(e)}")
    
    print("\n✅ JB OVERWATCH CLIME Cockpit is running!")
    print("📱 Navigate to http://localhost:8501 to view dashboard")